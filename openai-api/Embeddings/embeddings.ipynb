{
 "cells": [
  {
   "cell_type": "markdown",
   "metadata": {},
   "source": [
    "# Openai Embedding\n",
    "\n",
    "## 前期工作\n",
    "\n",
    "### [Embedding](https://platform.openai.com/docs/api-reference/embeddings)\n",
    "\n",
    "Get a vector representation of a given input that can be easily consumed by machine learning models and algorithms.\n",
    "Related guide: [Embeddings](https://platform.openai.com/docs/guides/embeddings)\n",
    "   \n",
    "### Embedding object\n",
    "\n",
    "Represents an embedding vector returned by embedding endpoint.\n",
    "\n",
    "1. index (integer): The index of the embedding in the list of embeddings.\n",
    "2. object (string): The object type, which is always \"embedding\".\n",
    "3. embedding (array): The embedding vector, which is a list of floats. The length of vector depends on the model as listed in the [embedding guide](https://platform.openai.com/docs/guides/embeddings).\n",
    "\n",
    "### Create embeddings\n",
    "\n",
    "POST https://api.openai.com/v1/embeddings.\n",
    "Creates an embedding vector representing the input text.\n",
    "\n",
    "#### Request body\n",
    "\n",
    "1. model (string) (Required): ID of the model to use. You can use the [List models](https://platform.openai.com/docs/api-reference/models/list) API to see all of your available models, or see our [Model overview](https://platform.openai.com/docs/models/overview) for descriptions of them.\n",
    "2. input (string or array) (Required): Input text to embed, encoded as a string or array of tokens. To embed multiple inputs in a single request, pass an array of strings or array of token arrays. Each input must not exceed the max input tokens for the model (8191 tokens for text-embedding-ada-002) and cannot be an empty string. [Example Python code](https://github.com/openai/openai-cookbook/blob/main/examples/How_to_count_tokens_with_tiktoken.ipynb) for counting tokens.\n",
    "3. user (string) (Optional): A unique identifier representing your end-user, which can help OpenAI to monitor and detect abuse. [Learn more](https://platform.openai.com/docs/guides/safety-best-practices/end-user-ids).\n",
    "\n",
    "#### Returns\n",
    "\n",
    "A list of embedding objects.\n",
    "\n",
    "### 环境准备\n",
    "\n",
    "1. 获取密钥信息，用作请求参数（通过 curl 的方式请求 openai），或用作环境变量（通过 openai 库进行请求），环境变量的配置方式如下：\n",
    "   1. 对于Windows，你可以在命令提示符中使用以下命令：\n",
    "        ```\n",
    "        set OPENAI_API_KEY=your-api-key\n",
    "        ```\n",
    "   2. 对于基于Unix的系统（如 Ubuntu 或 MacOS），你可以在终端中运行以下命令：\n",
    "        ```bash\n",
    "        export OPENAI_API_KEY='你的-api-key'\n",
    "        ```\n",
    "\n",
    "2. 安装所需依赖组件"
   ]
  },
  {
   "cell_type": "code",
   "execution_count": 3,
   "metadata": {},
   "outputs": [
    {
     "name": "stdout",
     "output_type": "stream",
     "text": [
      "Requirement already satisfied: tiktoken in c:\\users\\chen\\.conda\\envs\\openai\\lib\\site-packages (0.4.0)\n",
      "Requirement already satisfied: openai in c:\\users\\chen\\.conda\\envs\\openai\\lib\\site-packages (0.27.4)\n",
      "Requirement already satisfied: pandas in c:\\users\\chen\\.conda\\envs\\openai\\lib\\site-packages (2.0.3)\n",
      "Requirement already satisfied: matplotlib in c:\\users\\chen\\.conda\\envs\\openai\\lib\\site-packages (3.7.2)\n",
      "Requirement already satisfied: plotly in c:\\users\\chen\\.conda\\envs\\openai\\lib\\site-packages (5.15.0)\n",
      "Requirement already satisfied: scikit-learn in c:\\users\\chen\\.conda\\envs\\openai\\lib\\site-packages (1.3.0)\n",
      "Requirement already satisfied: numpy in c:\\users\\chen\\.conda\\envs\\openai\\lib\\site-packages (1.25.1)\n",
      "Requirement already satisfied: requests>=2.26.0 in c:\\users\\chen\\.conda\\envs\\openai\\lib\\site-packages (from tiktoken) (2.28.2)\n",
      "Requirement already satisfied: regex>=2022.1.18 in c:\\users\\chen\\.conda\\envs\\openai\\lib\\site-packages (from tiktoken) (2023.6.3)\n",
      "Requirement already satisfied: aiohttp in c:\\users\\chen\\.conda\\envs\\openai\\lib\\site-packages (from openai) (3.8.4)\n",
      "Requirement already satisfied: tqdm in c:\\users\\chen\\.conda\\envs\\openai\\lib\\site-packages (from openai) (4.65.0)\n",
      "Requirement already satisfied: python-dateutil>=2.8.2 in c:\\users\\chen\\.conda\\envs\\openai\\lib\\site-packages (from pandas) (2.8.2)\n",
      "Requirement already satisfied: tzdata>=2022.1 in c:\\users\\chen\\.conda\\envs\\openai\\lib\\site-packages (from pandas) (2023.3)\n",
      "Requirement already satisfied: pytz>=2020.1 in c:\\users\\chen\\.conda\\envs\\openai\\lib\\site-packages (from pandas) (2023.3)\n",
      "Requirement already satisfied: pillow>=6.2.0 in c:\\users\\chen\\.conda\\envs\\openai\\lib\\site-packages (from matplotlib) (9.5.0)\n",
      "Requirement already satisfied: pyparsing<3.1,>=2.3.1 in c:\\users\\chen\\.conda\\envs\\openai\\lib\\site-packages (from matplotlib) (3.0.9)\n",
      "Requirement already satisfied: kiwisolver>=1.0.1 in c:\\users\\chen\\.conda\\envs\\openai\\lib\\site-packages (from matplotlib) (1.4.4)\n",
      "Requirement already satisfied: fonttools>=4.22.0 in c:\\users\\chen\\.conda\\envs\\openai\\lib\\site-packages (from matplotlib) (4.41.0)\n",
      "Requirement already satisfied: importlib-resources>=3.2.0 in c:\\users\\chen\\.conda\\envs\\openai\\lib\\site-packages (from matplotlib) (6.0.0)\n",
      "Requirement already satisfied: packaging>=20.0 in c:\\users\\chen\\.conda\\envs\\openai\\lib\\site-packages (from matplotlib) (23.1)\n",
      "Requirement already satisfied: cycler>=0.10 in c:\\users\\chen\\.conda\\envs\\openai\\lib\\site-packages (from matplotlib) (0.11.0)\n",
      "Requirement already satisfied: contourpy>=1.0.1 in c:\\users\\chen\\.conda\\envs\\openai\\lib\\site-packages (from matplotlib) (1.1.0)\n",
      "Requirement already satisfied: tenacity>=6.2.0 in c:\\users\\chen\\.conda\\envs\\openai\\lib\\site-packages (from plotly) (8.2.2)\n",
      "Requirement already satisfied: scipy>=1.5.0 in c:\\users\\chen\\.conda\\envs\\openai\\lib\\site-packages (from scikit-learn) (1.11.1)\n",
      "Requirement already satisfied: joblib>=1.1.1 in c:\\users\\chen\\.conda\\envs\\openai\\lib\\site-packages (from scikit-learn) (1.3.1)\n",
      "Requirement already satisfied: threadpoolctl>=2.0.0 in c:\\users\\chen\\.conda\\envs\\openai\\lib\\site-packages (from scikit-learn) (3.2.0)\n",
      "Requirement already satisfied: zipp>=3.1.0 in c:\\users\\chen\\.conda\\envs\\openai\\lib\\site-packages (from importlib-resources>=3.2.0->matplotlib) (3.16.2)\n",
      "Requirement already satisfied: six>=1.5 in c:\\users\\chen\\.conda\\envs\\openai\\lib\\site-packages (from python-dateutil>=2.8.2->pandas) (1.16.0)\n",
      "Requirement already satisfied: charset-normalizer<4,>=2 in c:\\users\\chen\\.conda\\envs\\openai\\lib\\site-packages (from requests>=2.26.0->tiktoken) (3.1.0)\n",
      "Requirement already satisfied: urllib3<1.27,>=1.21.1 in c:\\users\\chen\\.conda\\envs\\openai\\lib\\site-packages (from requests>=2.26.0->tiktoken) (1.26.15)\n",
      "Requirement already satisfied: certifi>=2017.4.17 in c:\\users\\chen\\.conda\\envs\\openai\\lib\\site-packages (from requests>=2.26.0->tiktoken) (2023.5.7)\n",
      "Requirement already satisfied: idna<4,>=2.5 in c:\\users\\chen\\.conda\\envs\\openai\\lib\\site-packages (from requests>=2.26.0->tiktoken) (3.4)\n",
      "Requirement already satisfied: async-timeout<5.0,>=4.0.0a3 in c:\\users\\chen\\.conda\\envs\\openai\\lib\\site-packages (from aiohttp->openai) (4.0.2)\n",
      "Requirement already satisfied: yarl<2.0,>=1.0 in c:\\users\\chen\\.conda\\envs\\openai\\lib\\site-packages (from aiohttp->openai) (1.8.2)\n",
      "Requirement already satisfied: multidict<7.0,>=4.5 in c:\\users\\chen\\.conda\\envs\\openai\\lib\\site-packages (from aiohttp->openai) (6.0.4)\n",
      "Requirement already satisfied: attrs>=17.3.0 in c:\\users\\chen\\.conda\\envs\\openai\\lib\\site-packages (from aiohttp->openai) (22.2.0)\n",
      "Requirement already satisfied: frozenlist>=1.1.1 in c:\\users\\chen\\.conda\\envs\\openai\\lib\\site-packages (from aiohttp->openai) (1.3.3)\n",
      "Requirement already satisfied: aiosignal>=1.1.2 in c:\\users\\chen\\.conda\\envs\\openai\\lib\\site-packages (from aiohttp->openai) (1.3.1)\n",
      "Requirement already satisfied: colorama in c:\\users\\chen\\.conda\\envs\\openai\\lib\\site-packages (from tqdm->openai) (0.4.6)\n",
      "Note: you may need to restart the kernel to use updated packages.\n"
     ]
    }
   ],
   "source": [
    "'''\n",
    "    安装所需环境\n",
    "    %pip will install the package in the virtual environment where the current notebook kernel is running. \n",
    "    While !pip will install the package in the base environment. \n",
    "    If you are using Python virtual environment (as you should!), you should use %pip.\n",
    "'''\n",
    "%pip install tiktoken openai pandas matplotlib plotly scikit-learn numpy"
   ]
  },
  {
   "cell_type": "markdown",
   "metadata": {},
   "source": []
  }
 ],
 "metadata": {
  "kernelspec": {
   "display_name": "openai",
   "language": "python",
   "name": "python3"
  },
  "language_info": {
   "codemirror_mode": {
    "name": "ipython",
    "version": 3
   },
   "file_extension": ".py",
   "mimetype": "text/x-python",
   "name": "python",
   "nbconvert_exporter": "python",
   "pygments_lexer": "ipython3",
   "version": "3.9.16"
  },
  "orig_nbformat": 4
 },
 "nbformat": 4,
 "nbformat_minor": 2
}
